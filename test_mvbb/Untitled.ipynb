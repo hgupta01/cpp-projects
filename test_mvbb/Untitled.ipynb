{
 "cells": [
  {
   "cell_type": "code",
   "execution_count": null,
   "id": "7cbd5fb3",
   "metadata": {},
   "outputs": [],
   "source": [
    "%matplotlib notebook"
   ]
  },
  {
   "cell_type": "code",
   "execution_count": null,
   "id": "d1fd1076",
   "metadata": {},
   "outputs": [],
   "source": [
    "import copy\n",
    "import ctypes\n",
    "import random\n",
    "import numpy as np\n",
    "import open3d as o3d"
   ]
  },
  {
   "cell_type": "code",
   "execution_count": null,
   "id": "030a3cf1",
   "metadata": {},
   "outputs": [],
   "source": [
    "libBB = np.ctypeslib.load_library(libname=\"libcalculatebb\", \n",
    "                                loader_path=\"/home/himanshu/Downloads/cpp_projects/cpp-projects/test_mvbb/build/\")"
   ]
  },
  {
   "cell_type": "code",
   "execution_count": null,
   "id": "28edb236",
   "metadata": {},
   "outputs": [],
   "source": [
    "def calculateBB(pc):\n",
    "    result = np.zeros((5,3))\n",
    "    libBB.calculateBB.argtypes = [np.ctypeslib.ndpointer(dtype=np.float64, ndim=pc.ndim, shape=pc.shape,\n",
    "                                  flags='C_CONTIGUOUS'), ctypes.c_size_t,\n",
    "                                  np.ctypeslib.ndpointer(dtype=np.float64, ndim=result.ndim, shape=result.shape,\n",
    "                                  flags='C_CONTIGUOUS')]\n",
    "    \n",
    "    libBB.calculateBB.restype = ctypes.c_int\n",
    "\n",
    "    s = libBB.calculateBB(pc, len(pc), result)\n",
    "\n",
    "    return result"
   ]
  },
  {
   "cell_type": "code",
   "execution_count": null,
   "id": "2650ece2",
   "metadata": {},
   "outputs": [],
   "source": [
    "tree_pnts = np.loadtxt('/home/himanshu/python_stuff/PointCloud_CNN/dgcnn/pytorch/tree_non_tree/tree1.txt', delimiter=' ')\n",
    "tree_pnts.shape"
   ]
  },
  {
   "cell_type": "code",
   "execution_count": null,
   "id": "e10edff2",
   "metadata": {},
   "outputs": [],
   "source": [
    "pcd = o3d.io.read_point_cloud(\"/home/himanshu/Downloads/bunny/reconstruction/bun_zipper.ply\")\n",
    "pcd = pcd.voxel_down_sample(0.005)"
   ]
  },
  {
   "cell_type": "code",
   "execution_count": null,
   "id": "2049691a",
   "metadata": {},
   "outputs": [],
   "source": [
    "# result = calculateBB(np.asarray(pcd.points))\n",
    "result = calculateBB(tree_pnts)"
   ]
  },
  {
   "cell_type": "code",
   "execution_count": null,
   "id": "66eb0414",
   "metadata": {},
   "outputs": [],
   "source": [
    "import sys,os,imp,re\n",
    "import math\n",
    "import matplotlib as mpl\n",
    "\n",
    "import matplotlib.cm as cm\n",
    "import matplotlib.pyplot as plt\n",
    "\n",
    "import matplotlib.colors as colors\n",
    "import matplotlib.cm as cmx\n",
    "from mpl_toolkits.mplot3d import Axes3D"
   ]
  },
  {
   "cell_type": "code",
   "execution_count": null,
   "id": "f82e0c0c",
   "metadata": {},
   "outputs": [],
   "source": [
    "def plotCube(ax,minP = np.array([-1.0,-1.0,-1.0]), maxP=np.array([1.0,1.0,1.0]),\n",
    "             trans= np.array([0.0,0.0,0.0]),rotationMatrix=np.diag([1,1,1])):\n",
    "    from itertools import product, combinations\n",
    "    r = [-1, 1]\n",
    "    \n",
    "    centerPos = (maxP + minP)/2.0;\n",
    "    print(centerPos)\n",
    "    extent = (maxP - minP)/2.0;\n",
    "    \n",
    "    points = np.array([(-1, -1, -1),\n",
    "                     (-1, -1, 1),\n",
    "                     (-1, 1, -1),\n",
    "                     (-1, 1, 1),\n",
    "                     (1, -1, -1),\n",
    "                     (1, -1, 1),\n",
    "                     (1, 1, -1),\n",
    "                     (1, 1, 1)]);\n",
    "    \n",
    "    for s, e in combinations(points, 2):\n",
    "        if np.sum(np.abs(s-e)) == r[1]-r[0]: # no diagonal lines\n",
    "            p1 = np.array(s,dtype=float); p2 = np.array(e,dtype=float);\n",
    "            #scale points\n",
    "            p1*=extent; p2*=extent;\n",
    "            #rotate and translate points\n",
    "            p1 = rotationMatrix.dot(p1 + centerPos) + trans;\n",
    "            p2 = rotationMatrix.dot(p2 + centerPos) + trans;\n",
    "            ax.plot3D(*zip(p1,p2), color=\"b\")\n",
    "\n",
    "# def plotAxis(ax,centerPos,A_IK,plotAxisScale=1):\n",
    "#         for i,c in zip([0,1,2],['r','g','b']):\n",
    "#             I_eK_i = A_IK[:,i];\n",
    "#             lines = list(zip(centerPos,plotAxisScale*I_eK_i+centerPos))\n",
    "#             v = Arrow3D(*lines, mutation_scale=50, lw=1, arrowstyle=\"-|>\", color=c);\n",
    "#             ax.plot3D(*lines, color=c)\n",
    "#             ax.add_artist(v);\n",
    "\n",
    "# def plotAxis2d(ax,centerPos,u,v,plotAxisScale=1):\n",
    "    \n",
    "#     x = np.vstack((centerPos,plotAxisScale*u+centerPos))\n",
    "#     y = np.vstack((centerPos,plotAxisScale*v+centerPos))\n",
    "#     ax.plot(x.T[0],x.T[1],'r',lw=2)\n",
    "#     ax.plot(y.T[0],y.T[1],'b',lw=2)\n",
    "        \n",
    "            \n",
    "# from matplotlib.patches import FancyArrowPatch\n",
    "# from mpl_toolkits.mplot3d import proj3d\n",
    "# class Arrow3D(FancyArrowPatch):\n",
    "#         def __init__(self, xs, ys, zs, *args, **kwargs):\n",
    "#             FancyArrowPatch.__init__(self, (0,0), (0,0), *args, **kwargs)\n",
    "#             self._verts3d = xs, ys, zs\n",
    "     \n",
    "#         def draw(self, renderer):\n",
    "#             xs3d, ys3d, zs3d = self._verts3d\n",
    "#             xs, ys, zs = proj3d.proj_transform(xs3d, ys3d, zs3d, renderer.M)\n",
    "#             self.set_positions((xs[0],ys[0]),(xs[1],ys[1]))\n",
    "#             FancyArrowPatch.draw(self, renderer)\n",
    "            \n",
    "# def axisEqual3D(ax):\n",
    "#     extents = np.array([getattr(ax, 'get_{}lim'.format(dim))() for dim in 'xyz'])\n",
    "#     sz = extents[:,1] - extents[:,0]\n",
    "#     centers = np.mean(extents, axis=1)\n",
    "#     maxsize = max(abs(sz))\n",
    "#     r = maxsize/2\n",
    "#     for ctr, dim in zip(centers, 'xyz'):\n",
    "#         getattr(ax, 'set_{}lim'.format(dim))(ctr - r, ctr + r)"
   ]
  },
  {
   "cell_type": "code",
   "execution_count": null,
   "id": "a8ff8baf",
   "metadata": {},
   "outputs": [],
   "source": [
    "fig = plt.figure(\"MVBBTest\")\n",
    "    \n",
    "    \n",
    "points = tree_pnts#np.asarray(pcd.points)\n",
    "K_min = result[0,0:3]\n",
    "K_max = result[1,0:3]\n",
    "A_IK = result[2:5,0:3]\n",
    "    \n",
    "center = np.zeros((3,));\n",
    "    \n",
    "ax = Axes3D(fig)\n",
    "ax.scatter(points.T[0],points.T[1],points.T[2],c='b')\n",
    "    \n",
    "plotCube(ax,K_min,K_max,center,A_IK) # A_IK = R_KI (rotation from I to K)\n",
    "# plotAxis(ax,center,A_IK,1)\n",
    "# plotAxis(ax,center,np.identity(3),0.5)\n",
    "# axisEqual3D(ax)"
   ]
  },
  {
   "cell_type": "code",
   "execution_count": null,
   "id": "0db82738",
   "metadata": {
    "scrolled": true
   },
   "outputs": [],
   "source": [
    "from scipy.spatial import ConvexHull\n",
    "\n",
    "# Calculate the convex hull (i.e wrapping points) for the set of points\n",
    "hull = ConvexHull(points)\n",
    "\n",
    "print(\"Convex hull vertices: \",points[hull.vertices].shape[0])\n",
    "\n",
    "# Plot it (red is the convex hull points, i.e the wrapping points and grey is the rest)\n",
    "fig2 = plt.figure(2)\n",
    "ax = fig2.subplots(1, 1, subplot_kw={'projection':'3d'})\n",
    "\n",
    "# Plot all the points\n",
    "ax.scatter(points[:, 0], points[:, 1], points[:, 2], s=2, c='grey', zorder=10)\n",
    "\n",
    "# Plot the convex hull points in red\n",
    "ax.scatter(points[hull.vertices, 0], \n",
    "           points[hull.vertices, 1], \n",
    "           points[hull.vertices, 2], \n",
    "           s=20, c='r', zorder=20)\n",
    "ax.set_title('Convex Hull')"
   ]
  },
  {
   "cell_type": "code",
   "execution_count": null,
   "id": "3e6e8918",
   "metadata": {},
   "outputs": [],
   "source": [
    "chull = np.array([points[hull.vertices, 0], points[hull.vertices, 1], points[hull.vertices, 2]])\n",
    "chull = chull.T"
   ]
  },
  {
   "cell_type": "code",
   "execution_count": null,
   "id": "6e6bcd88",
   "metadata": {},
   "outputs": [],
   "source": [
    "cov = np.cov(chull.T)\n",
    "eigval, eigvec = np.linalg.eig(cov)"
   ]
  },
  {
   "cell_type": "code",
   "execution_count": null,
   "id": "ce60c1f2",
   "metadata": {},
   "outputs": [],
   "source": [
    "vec = eigvec[:,0]\n",
    "ang = np.arccos(vec)"
   ]
  },
  {
   "cell_type": "code",
   "execution_count": null,
   "id": "07773f23",
   "metadata": {},
   "outputs": [],
   "source": [
    "from scipy.spatial.transform import Rotation as R"
   ]
  },
  {
   "cell_type": "code",
   "execution_count": null,
   "id": "fc80c852",
   "metadata": {},
   "outputs": [],
   "source": [
    "rz = np.array([[0],[0],[1]])@vec.reshape(1,3)\n",
    "rx = np.array([[1],[0],[0]])@eigvec[:,1].reshape(1,3)\n",
    "ry = np.array([[0],[1],[0]])@eigvec[:,2].reshape(1,3)"
   ]
  },
  {
   "cell_type": "code",
   "execution_count": null,
   "id": "e267cfe7",
   "metadata": {},
   "outputs": [],
   "source": [
    "r = rx+rz+ry"
   ]
  },
  {
   "cell_type": "code",
   "execution_count": null,
   "id": "c6716546",
   "metadata": {},
   "outputs": [],
   "source": [
    "rot = R.from_euler('xyz', ang, degrees=False)\n",
    "mat = rot.as_matrix()"
   ]
  },
  {
   "cell_type": "code",
   "execution_count": null,
   "id": "e1259c89",
   "metadata": {},
   "outputs": [],
   "source": []
  },
  {
   "cell_type": "code",
   "execution_count": null,
   "id": "5c0c8bb7",
   "metadata": {},
   "outputs": [],
   "source": [
    "fig = plt.figure(\"CVHull\")\n",
    "\n",
    "K_min = chull.min(axis=0)\n",
    "K_max = chull.max(axis=0)\n",
    "A_IK = r.T\n",
    "    \n",
    "center = np.zeros((3,))\n",
    "    \n",
    "ax = Axes3D(fig)\n",
    "ax.scatter(points.T[0],points.T[1],points.T[2],c='b')\n",
    "    \n",
    "plotCube(ax,K_min,K_max,center,A_IK) # A_IK = R_KI (rotation from I to K)\n",
    "# plotAxis(ax,center,A_IK,1)\n",
    "# plotAxis(ax,center,np.identity(3),0.5)\n",
    "# axisEqual3D(ax)"
   ]
  },
  {
   "cell_type": "code",
   "execution_count": null,
   "id": "da70ee29",
   "metadata": {},
   "outputs": [],
   "source": [
    "(K_max + K_min)/2"
   ]
  },
  {
   "cell_type": "code",
   "execution_count": null,
   "id": "e1dea279",
   "metadata": {},
   "outputs": [],
   "source": [
    "p = np.array([1, 1, 1])\n",
    "p = p*(K_max - K_min)/2\n",
    "\n",
    "#rotate and translate points\n",
    "p1 = (r.T).dot(p + (K_max + K_min)/2)"
   ]
  },
  {
   "cell_type": "code",
   "execution_count": null,
   "id": "4480ae2e",
   "metadata": {},
   "outputs": [],
   "source": [
    "p1"
   ]
  },
  {
   "cell_type": "code",
   "execution_count": null,
   "id": "762d2a0d",
   "metadata": {},
   "outputs": [],
   "source": [
    "from itertools import product, combinations\n",
    "r_ = [-1, 1]\n",
    "\n",
    "fig = plt.figure(\"Hull\")\n",
    "\n",
    "K_min = chull.min(axis=0)\n",
    "K_max = chull.max(axis=0)\n",
    "A_IK = r.T\n",
    "    \n",
    "center = np.zeros((3,))\n",
    "    \n",
    "\n",
    "\n",
    "centerPos = (K_max + K_min)/2.0;\n",
    "extent = (K_max - K_min)/2.0;\n",
    "    \n",
    "points = np.array([(-1, -1, -1),\n",
    "                    (-1, -1, 1),\n",
    "                     (-1, 1, -1),\n",
    "                     (-1, 1, 1),\n",
    "                     (1, -1, -1),\n",
    "                     (1, -1, 1),\n",
    "                     (1, 1, -1),\n",
    "                     (1, 1, 1)]);\n",
    "\n",
    "ax = Axes3D(fig)\n",
    "for s, e in combinations(points, 2):\n",
    "    if np.sum(np.abs(s-e)) == r_[1]-r_[0]: # no diagonal lines\n",
    "        p1 = np.array(s,dtype=float); p2 = np.array(e,dtype=float);\n",
    "        #scale points\n",
    "        p1*=extent; p2*=extent;\n",
    "        #rotate and translate points\n",
    "#         p1 = A_IK.dot(p1 + centerPos)\n",
    "#         p2 = A_IK.dot(p2 + centerPos)\n",
    "        p1 = p1 + centerPos\n",
    "        p2 = p2 + centerPos\n",
    "        ax.plot3D(*zip(p1,p2), color=\"b\")"
   ]
  },
  {
   "cell_type": "code",
   "execution_count": null,
   "id": "0f79c051",
   "metadata": {},
   "outputs": [],
   "source": [
    "np.linalg.det(A_IK.T)"
   ]
  },
  {
   "cell_type": "code",
   "execution_count": null,
   "id": "febf1d33",
   "metadata": {},
   "outputs": [],
   "source": []
  }
 ],
 "metadata": {
  "kernelspec": {
   "display_name": "Python 3",
   "language": "python",
   "name": "python3"
  },
  "language_info": {
   "codemirror_mode": {
    "name": "ipython",
    "version": 3
   },
   "file_extension": ".py",
   "mimetype": "text/x-python",
   "name": "python",
   "nbconvert_exporter": "python",
   "pygments_lexer": "ipython3",
   "version": "3.6.9"
  }
 },
 "nbformat": 4,
 "nbformat_minor": 5
}
